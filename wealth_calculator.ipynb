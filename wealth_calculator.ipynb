{
 "cells": [
  {
   "cell_type": "code",
   "execution_count": 1,
   "id": "f61edc4f-ed6e-48e6-91cb-a54cc8dd6ddf",
   "metadata": {},
   "outputs": [],
   "source": [
    "import numpy as np\n",
    "import numpy_financial as npf\n",
    "import matplotlib.pyplot as plt\n",
    "%matplotlib inline\n",
    "import pandas as pd\n",
    "import seaborn as sb\n",
    "import home_equity as he"
   ]
  },
  {
   "cell_type": "code",
   "execution_count": 6,
   "id": "709de51c-4fde-4dbf-9fd4-269a53f4e8e4",
   "metadata": {},
   "outputs": [],
   "source": [
    "# Define mortgage input parameter set 1\n",
    "inputs1 = {'home_price':500000,\n",
    "           'int_rate':0.03,\n",
    "           'mortgage_yrs':15,\n",
    "           'down_pmt':100000,\n",
    "          }"
   ]
  },
  {
   "cell_type": "code",
   "execution_count": 7,
   "id": "46718b67-3e5e-4d5f-acde-9955a8fe4a04",
   "metadata": {},
   "outputs": [],
   "source": [
    "# Define mortgage input parameter set 2\n",
    "inputs2 = {'home_price':750000,\n",
    "           'int_rate':0.035,\n",
    "           'mortgage_yrs':30,\n",
    "           'down_pmt':150000,\n",
    "          }"
   ]
  },
  {
   "cell_type": "code",
   "execution_count": 29,
   "id": "6f47f438-d747-46fa-9cb5-d48034612928",
   "metadata": {},
   "outputs": [
    {
     "data": {
      "text/plain": [
       "array([-81.44081512, -81.78015185, -82.12090248, -82.46307291,\n",
       "       -82.80666905, -83.15169684, -83.49816224, -83.84607125,\n",
       "       -84.19542988, -84.54624417, -84.89852019, -85.25226402])"
      ]
     },
     "execution_count": 29,
     "metadata": {},
     "output_type": "execute_result"
    }
   ],
   "source": [
    "per = np.arange(1*12) + 1\n",
    "npf.ppmt(0.05/12, per, 1*12, 1000)"
   ]
  },
  {
   "cell_type": "code",
   "execution_count": 34,
   "id": "9610dc62-1cad-48fc-81ce-3f374fd617c7",
   "metadata": {},
   "outputs": [
    {
     "data": {
      "text/plain": [
       "array([-39.70472307, -39.87015941, -40.03628508, -40.20310293,\n",
       "       -40.37061586, -40.53882676, -40.70773854, -40.87735412,\n",
       "       -41.04767642, -41.21870841, -41.39045303, -41.56291325])"
      ]
     },
     "execution_count": 34,
     "metadata": {},
     "output_type": "execute_result"
    }
   ],
   "source": [
    "per = np.arange(1*12) + 1\n",
    "npf.ppmt(0.05/12, per, 2*12, 1000)"
   ]
  },
  {
   "cell_type": "code",
   "execution_count": 4,
   "id": "d07186ec-bb05-46f4-8caa-f55dc31ce025",
   "metadata": {},
   "outputs": [
    {
     "name": "stdout",
     "output_type": "stream",
     "text": [
      "Mortgage Summary\n",
      "    Home price: $750000.00\n",
      "    Down payment: $150000.00 (20%)\n",
      "    Loan amount: $600000.00\n",
      "    Interest rate: 2.80%\n",
      "    Mortgage years: 30\n",
      "    Monthy payment: $2465.37\n",
      "    Total interest payable: $287532.00\n",
      "    Interest to loan ratio: 0.48\n"
     ]
    }
   ],
   "source": [
    "he.mortgage_summary(750000, 0.028, 30, 150000)"
   ]
  },
  {
   "cell_type": "code",
   "execution_count": 5,
   "id": "d07ea8d6-7bbd-4a4c-8ba8-e6c42ed617d2",
   "metadata": {},
   "outputs": [
    {
     "name": "stdout",
     "output_type": "stream",
     "text": [
      "Mortgage Summary\n",
      "    Home price: $500000.00\n",
      "    Down payment: $100000.00 (20%)\n",
      "    Loan amount: $400000.00\n",
      "    Interest rate: 2.30%\n",
      "    Mortgage years: 15\n",
      "    Monthy payment: $2629.66\n",
      "    Total interest payable: $73339.09\n",
      "    Interest to loan ratio: 0.18\n"
     ]
    }
   ],
   "source": [
    "he.mortgage_summary(500000, 0.023, 15, 100000)"
   ]
  },
  {
   "cell_type": "code",
   "execution_count": 10,
   "id": "ddad927f-4bbc-47b0-a135-e31835c614f9",
   "metadata": {},
   "outputs": [
    {
     "name": "stdout",
     "output_type": "stream",
     "text": [
      "Mortgage Summary\n",
      "    Home price: $500000.00\n",
      "    Down payment: $100000.00 (20%)\n",
      "    Loan amount: $400000.00\n",
      "    Interest rate: 2.30%\n",
      "    Mortgage years: 30\n",
      "    Monthy payment: $1539.21\n",
      "    Total interest payable: $154113.86\n",
      "    Interest to loan ratio: 0.39\n"
     ]
    }
   ],
   "source": [
    "he.mortgage_summary(500000, 0.023, 30, 100000)"
   ]
  },
  {
   "cell_type": "code",
   "execution_count": 8,
   "id": "53f3fd74-43b2-4653-9341-b0c09f6ff283",
   "metadata": {},
   "outputs": [
    {
     "data": {
      "text/plain": [
       "2.101387677430958"
      ]
     },
     "execution_count": 8,
     "metadata": {},
     "output_type": "execute_result"
    }
   ],
   "source": [
    "154113.86/73339.09"
   ]
  },
  {
   "cell_type": "code",
   "execution_count": 61,
   "id": "e3d31624-16fe-4063-a1db-1ba857946af0",
   "metadata": {},
   "outputs": [
    {
     "data": {
      "text/plain": [
       "<function home_equity.payment_schedule(home_price, initial_savings, down_payment, interest_rate, loan_years, rent, monthly_budget)>"
      ]
     },
     "execution_count": 61,
     "metadata": {},
     "output_type": "execute_result"
    }
   ],
   "source": [
    "he.payment_schedule"
   ]
  },
  {
   "cell_type": "code",
   "execution_count": null,
   "id": "1b91e5cb-9abf-4b7e-acb5-65ad378fa208",
   "metadata": {},
   "outputs": [],
   "source": []
  }
 ],
 "metadata": {
  "kernelspec": {
   "display_name": "Python 3 (ipykernel)",
   "language": "python",
   "name": "python3"
  },
  "language_info": {
   "codemirror_mode": {
    "name": "ipython",
    "version": 3
   },
   "file_extension": ".py",
   "mimetype": "text/x-python",
   "name": "python",
   "nbconvert_exporter": "python",
   "pygments_lexer": "ipython3",
   "version": "3.7.4"
  }
 },
 "nbformat": 4,
 "nbformat_minor": 5
}
