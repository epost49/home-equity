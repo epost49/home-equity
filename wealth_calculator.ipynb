{
 "cells": [
  {
   "cell_type": "code",
   "execution_count": 1,
   "id": "f61edc4f-ed6e-48e6-91cb-a54cc8dd6ddf",
   "metadata": {},
   "outputs": [],
   "source": [
    "import numpy as np\n",
    "import numpy_financial as npf\n",
    "import matplotlib.pyplot as plt\n",
    "%matplotlib inline\n",
    "import pandas as pd\n",
    "import seaborn as sb\n",
    "import home_equity as he"
   ]
  },
  {
   "cell_type": "code",
   "execution_count": 16,
   "id": "709de51c-4fde-4dbf-9fd4-269a53f4e8e4",
   "metadata": {},
   "outputs": [],
   "source": [
    "# Define mortgage input parameter set 1\n",
    "inputs1 = {'home_price':500000,\n",
    "           'int_rate':0.03,\n",
    "           'mortgage_yrs':15,\n",
    "           'down_pmt':100000,\n",
    "          }"
   ]
  },
  {
   "cell_type": "code",
   "execution_count": 13,
   "id": "46718b67-3e5e-4d5f-acde-9955a8fe4a04",
   "metadata": {},
   "outputs": [],
   "source": [
    "# Define mortgage input parameter set 2\n",
    "inputs2 = {'home_price':750000,\n",
    "           'int_rate':0.035,\n",
    "           'mortgage_yrs':30,\n",
    "           'down_pmt':150000,\n",
    "          }"
   ]
  },
  {
   "cell_type": "code",
   "execution_count": 18,
   "id": "b106af1d-cabf-489f-9f20-b20a6593fdd4",
   "metadata": {},
   "outputs": [],
   "source": [
    "# Define complete input parameters set 3\n",
    "inputs3 = {'home_price':750000,\n",
    "           'int_rate':0.035,\n",
    "           'mortgage_yrs':30,\n",
    "           'down_pmt':150000,\n",
    "           'hoa':400,\n",
    "           'annual_inc':125000,\n",
    "          }"
   ]
  },
  {
   "cell_type": "code",
   "execution_count": null,
   "id": "223eedbd-627a-4c74-ae61-90e9efb959af",
   "metadata": {},
   "outputs": [],
   "source": [
    "# make_total_wealth_array(**inputs3)"
   ]
  },
  {
   "cell_type": "code",
   "execution_count": 4,
   "id": "d07186ec-bb05-46f4-8caa-f55dc31ce025",
   "metadata": {},
   "outputs": [
    {
     "name": "stdout",
     "output_type": "stream",
     "text": [
      "Mortgage Summary\n",
      "    Home price: $750000.00\n",
      "    Down payment: $150000.00 (20%)\n",
      "    Loan amount: $600000.00\n",
      "    Interest rate: 2.80%\n",
      "    Mortgage years: 30\n",
      "    Monthy payment: $2465.37\n",
      "    Total interest payable: $287532.00\n",
      "    Interest to loan ratio: 0.48\n"
     ]
    }
   ],
   "source": [
    "he.mortgage_summary(750000, 0.028, 30, 150000)"
   ]
  },
  {
   "cell_type": "code",
   "execution_count": 16,
   "id": "d07ea8d6-7bbd-4a4c-8ba8-e6c42ed617d2",
   "metadata": {},
   "outputs": [
    {
     "name": "stdout",
     "output_type": "stream",
     "text": [
      "Mortgage Summary\n",
      "    Home price: $600000.00\n",
      "    Down payment: $120000.00 (20%)\n",
      "    Loan amount: $480000.00\n",
      "    Interest rate: 2.50%\n",
      "    Mortgage years: 15\n",
      "    Monthy payment: $3200.59\n",
      "    Total interest payable: $96105.88\n",
      "    Interest to loan ratio: 0.20\n"
     ]
    }
   ],
   "source": [
    "he.mortgage_summary(600000, 0.025, 15, 120000)"
   ]
  },
  {
   "cell_type": "code",
   "execution_count": 17,
   "id": "9dddf527-bcb7-419a-97ef-d2ead55b9d62",
   "metadata": {},
   "outputs": [
    {
     "name": "stdout",
     "output_type": "stream",
     "text": [
      "Mortgage Summary\n",
      "    Home price: $600000.00\n",
      "    Down payment: $120000.00 (20%)\n",
      "    Loan amount: $480000.00\n",
      "    Interest rate: 2.50%\n",
      "    Mortgage years: 30\n",
      "    Monthy payment: $1896.58\n",
      "    Total interest payable: $202768.91\n",
      "    Interest to loan ratio: 0.42\n"
     ]
    }
   ],
   "source": [
    "he.mortgage_summary(600000, 0.025, 30, 120000)"
   ]
  },
  {
   "cell_type": "code",
   "execution_count": 10,
   "id": "ddad927f-4bbc-47b0-a135-e31835c614f9",
   "metadata": {},
   "outputs": [
    {
     "name": "stdout",
     "output_type": "stream",
     "text": [
      "Mortgage Summary\n",
      "    Home price: $500000.00\n",
      "    Down payment: $100000.00 (20%)\n",
      "    Loan amount: $400000.00\n",
      "    Interest rate: 2.30%\n",
      "    Mortgage years: 30\n",
      "    Monthy payment: $1539.21\n",
      "    Total interest payable: $154113.86\n",
      "    Interest to loan ratio: 0.39\n"
     ]
    }
   ],
   "source": [
    "he.mortgage_summary(500000, 0.023, 30, 100000)"
   ]
  },
  {
   "cell_type": "code",
   "execution_count": 17,
   "id": "1b91e5cb-9abf-4b7e-acb5-65ad378fa208",
   "metadata": {},
   "outputs": [
    {
     "name": "stdout",
     "output_type": "stream",
     "text": [
      "Mortgage Summary\n",
      "    Home price: $500000.00\n",
      "    Down payment: $100000.00 (20%)\n",
      "    Loan amount: $400000.00\n",
      "    Interest rate: 3.00%\n",
      "    Mortgage years: 15\n",
      "    Monthy payment: $2762.33\n",
      "    Total interest payable: $97218.78\n",
      "    Interest to loan ratio: 0.24\n"
     ]
    }
   ],
   "source": [
    "he.mortgage_summary(**inputs1)"
   ]
  },
  {
   "cell_type": "code",
   "execution_count": 14,
   "id": "012bdfac-f2f3-47b6-99b2-4b5f2d630934",
   "metadata": {},
   "outputs": [],
   "source": [
    "d_home_val = 1000\n",
    "d_mortgage_pmt = 2000\n",
    "d_int_pmt = d_mortgage_pmt * 0.5\n",
    "d_princ_pmt = d_mortgage_pmt - d_int_pmt\n",
    "d_hoa = 400\n",
    "d_prop_tax = 500\n",
    "d_inc = 10000\n",
    "d_inc_tax = he.calc_d_inc_tax(d_inc, d_int_pmt, annual_periods=12)\n",
    "d_repairs = 200"
   ]
  },
  {
   "cell_type": "code",
   "execution_count": 7,
   "id": "08f20d9a-9e99-4c5f-9145-75c95875a124",
   "metadata": {},
   "outputs": [
    {
     "data": {
      "text/plain": [
       "3165.125"
      ]
     },
     "execution_count": 7,
     "metadata": {},
     "output_type": "execute_result"
    }
   ],
   "source": [
    "d_inc_tax"
   ]
  },
  {
   "cell_type": "code",
   "execution_count": 13,
   "id": "adf8c666-f712-4b37-b2f7-dc97ba2429eb",
   "metadata": {},
   "outputs": [
    {
     "data": {
      "text/plain": [
       "3734.875"
      ]
     },
     "execution_count": 13,
     "metadata": {},
     "output_type": "execute_result"
    }
   ],
   "source": [
    "d_savings = he.calc_d_savings(d_mortgage_pmt, d_hoa, d_prop_tax, d_inc, d_inc_tax, d_repairs)\n",
    "d_savings"
   ]
  },
  {
   "cell_type": "code",
   "execution_count": 15,
   "id": "fbc7aea5-a774-467a-a9b4-875a27ea18df",
   "metadata": {},
   "outputs": [
    {
     "data": {
      "text/plain": [
       "5734.875"
      ]
     },
     "execution_count": 15,
     "metadata": {},
     "output_type": "execute_result"
    }
   ],
   "source": [
    "he.calc_d_wealth(d_home_val, d_savings, d_princ_pmt)"
   ]
  },
  {
   "cell_type": "code",
   "execution_count": null,
   "id": "304a188d-288a-4070-b174-379b2aadcc3f",
   "metadata": {},
   "outputs": [],
   "source": [
    "he.calc_d_inc_tax(d_inc, d_int_pmt, annual_periods=12)"
   ]
  },
  {
   "cell_type": "code",
   "execution_count": null,
   "id": "72d4c84c-42aa-4cb5-adee-2284414ea192",
   "metadata": {
    "tags": []
   },
   "outputs": [],
   "source": [
    "he.PayrollTax(BaseSalary, Adjustments)"
   ]
  },
  {
   "cell_type": "code",
   "execution_count": 2,
   "id": "b754d50f-0d55-47b5-adef-aaa4e297feaa",
   "metadata": {},
   "outputs": [],
   "source": [
    "cf_df = he.cash_flow_df(500000, 100000, 0.03, 15, 0)"
   ]
  },
  {
   "cell_type": "code",
   "execution_count": 3,
   "id": "d4c9dd60-8d7a-4b7b-b4a4-c7851b2ad2a0",
   "metadata": {},
   "outputs": [],
   "source": [
    "cf_df.to_csv(\"out2.csv\")"
   ]
  },
  {
   "cell_type": "code",
   "execution_count": 12,
   "id": "9fb4d506-f555-4597-8da7-8d124df11d28",
   "metadata": {},
   "outputs": [],
   "source": [
    "c=np.array([])"
   ]
  },
  {
   "cell_type": "code",
   "execution_count": 10,
   "id": "06041d68-4f29-4bb8-b6fe-fb6d3ac7421c",
   "metadata": {},
   "outputs": [
    {
     "data": {
      "text/plain": [
       "array([ 1,  2,  3, 45])"
      ]
     },
     "execution_count": 10,
     "metadata": {},
     "output_type": "execute_result"
    }
   ],
   "source": [
    "np.append(b,45)"
   ]
  },
  {
   "cell_type": "code",
   "execution_count": null,
   "id": "e3362523-5087-44c9-b75e-57d963928548",
   "metadata": {},
   "outputs": [],
   "source": []
  }
 ],
 "metadata": {
  "kernelspec": {
   "display_name": "Python 3 (ipykernel)",
   "language": "python",
   "name": "python3"
  },
  "language_info": {
   "codemirror_mode": {
    "name": "ipython",
    "version": 3
   },
   "file_extension": ".py",
   "mimetype": "text/x-python",
   "name": "python",
   "nbconvert_exporter": "python",
   "pygments_lexer": "ipython3",
   "version": "3.7.11"
  }
 },
 "nbformat": 4,
 "nbformat_minor": 5
}
